{
  "nbformat": 4,
  "nbformat_minor": 0,
  "metadata": {
    "colab": {
      "provenance": []
    },
    "kernelspec": {
      "name": "python3",
      "display_name": "Python 3"
    },
    "language_info": {
      "name": "python"
    }
  },
  "cells": [
    {
      "cell_type": "code",
      "execution_count": 2,
      "metadata": {
        "id": "NR85D6DEAX_t",
        "colab": {
          "base_uri": "https://localhost:8080/"
        },
        "outputId": "d5cb7d7c-5b06-4148-af66-78c22d3b1964"
      },
      "outputs": [
        {
          "output_type": "stream",
          "name": "stdout",
          "text": [
            "13.0\n",
            "<5,12>\n",
            "5 12\n"
          ]
        }
      ],
      "source": [
        "class Coordinate(object):\n",
        "  def __init__(self, x, y):\n",
        "    self.x = x\n",
        "    self.y = y\n",
        "  def distance(self, other):\n",
        "    delta_x_sq = (self.x-other.x)**2\n",
        "    delta_y_sq = (self.y-other.y)**2\n",
        "    return (delta_x_sq + delta_y_sq)**0.5\n",
        "  def __str__(self):\n",
        "    return \"<\"+str(self.x)+\",\"+str(self.y)+\">\"\n",
        "\n",
        "origin = Coordinate(0,0)\n",
        "a = Coordinate(5,12)\n",
        "print(a.distance(origin))\n",
        "print(a)\n",
        "print(a.x,a.y)"
      ]
    },
    {
      "cell_type": "code",
      "source": [
        "class Animal(object):\n",
        "  def __init__(self, age):\n",
        "    self.age = age\n",
        "    self.name = None\n",
        "\n",
        "  def get_age(self):\n",
        "    return self.age\n",
        "  def get_name(self):\n",
        "    return self.name\n",
        "\n",
        "  def set_age(self, newage):\n",
        "    self.age = newage\n",
        "  def set_name(self, newname=\"\"):\n",
        "    self.name = newname\n",
        "\n",
        "  def __str__(self):\n",
        "    return \"animal:\"+str(self.name)+\",\"+str(self.age)\n",
        "\n",
        "A = Animal(3)\n",
        "A.set_name(\"Leo\")\n",
        "print(A.get_name())\n",
        "print(A)\n",
        "print(A.age)\n",
        "print(A.get_age())"
      ],
      "metadata": {
        "colab": {
          "base_uri": "https://localhost:8080/"
        },
        "id": "CwMOYXwABWyZ",
        "outputId": "f3c6d8ce-f270-423f-9064-636dc74812df"
      },
      "execution_count": 17,
      "outputs": [
        {
          "output_type": "stream",
          "name": "stdout",
          "text": [
            "Leo\n",
            "animal:Leo,3\n",
            "3\n",
            "3\n"
          ]
        }
      ]
    },
    {
      "cell_type": "code",
      "source": [
        "class Cat(Animal):\n",
        "  def speak(self):\n",
        "    print(\"meow\")\n",
        "  def __str__(self):\n",
        "    return \"cat:\"+str(self.name)+\",\"+str(self.age)\n",
        "\n",
        "C = Cat(4)\n",
        "C.set_name('Basia')\n",
        "print(C.get_name())\n",
        "print(C.get_age())\n",
        "print(C)\n",
        "C.speak()"
      ],
      "metadata": {
        "colab": {
          "base_uri": "https://localhost:8080/"
        },
        "id": "6WJovQaXBg4A",
        "outputId": "892a3a10-3b80-4426-f787-0a4aa8575114"
      },
      "execution_count": 18,
      "outputs": [
        {
          "output_type": "stream",
          "name": "stdout",
          "text": [
            "Basia\n",
            "4\n",
            "cat:Basia,4\n",
            "meow\n"
          ]
        }
      ]
    },
    {
      "cell_type": "code",
      "source": [
        "class Person(Animal):\n",
        "  def __init__(self, name, age):\n",
        "    Animal.__init__(self, age)\n",
        "    self.set_name(name)\n",
        "    self.friends = []\n",
        "  def get_friends(self):\n",
        "    return self.friends\n",
        "  def add_friend(self, fname):\n",
        "    if fname not in self.friends:\n",
        "      self.friends.append(fname)\n",
        "  def speak(self):\n",
        "    print(\"hello\")\n",
        "  def age_diff(self, other):\n",
        "    diff = self.age - other.age\n",
        "    print(abs(diff), \"year difference\")\n",
        "  def __str__(self):\n",
        "    return \"person:\"+str(self.name)+\",\"+str(self.age)\n",
        "\n",
        "P1 = Person('Tom',25)\n",
        "P2 = Person('Mary',23)\n",
        "print(P1.get_name())\n",
        "print(P1.get_age())\n",
        "print(P2.get_name())\n",
        "print(P2.get_age())\n",
        "print(P1)\n",
        "print(P2)\n",
        "P1.speak()\n",
        "P1.age_diff(P2)"
      ],
      "metadata": {
        "colab": {
          "base_uri": "https://localhost:8080/"
        },
        "id": "_r2U5Q8sBx8U",
        "outputId": "58f209e0-1017-4fc0-cb5a-8252c226cc97"
      },
      "execution_count": 15,
      "outputs": [
        {
          "output_type": "stream",
          "name": "stdout",
          "text": [
            "Tom\n",
            "25\n",
            "Mary\n",
            "23\n",
            "person:Tom,25\n",
            "person:Mary,23\n",
            "hello\n",
            "2 year difference\n"
          ]
        }
      ]
    },
    {
      "cell_type": "code",
      "source": [
        "import random\n",
        "class Student(Person):\n",
        "  def __init__(self, name, age, major=None):\n",
        "      Person.__init__(self, name, age)\n",
        "      self.major = major\n",
        "  def change_major(self, major):\n",
        "    self.major = major\n",
        "  def speak(self):\n",
        "    r = random.random()\n",
        "    if r < 0.33:\n",
        "      print(\"I have homework\")\n",
        "    elif 0.33 <= r < 0.66:\n",
        "        print(\"I need sleep\")\n",
        "    else:\n",
        "        print(\"I should eat\")\n",
        "  def __str__(self):\n",
        "    return \"student:\"+str(self.name)+\",\"+str(self.age)+\",\"+str(self.major)\n",
        "\n",
        "S1 = Student('Mark', 20, 'Physics')\n",
        "S2 = Student('Mia',15)\n",
        "print(S1)\n",
        "print(S2)\n",
        "print(S1.get_name(), 'says:', end=' ')\n",
        "S1.speak()\n",
        "print(S2.get_name(), 'says:', end=' ')\n",
        "S2.speak()"
      ],
      "metadata": {
        "colab": {
          "base_uri": "https://localhost:8080/"
        },
        "id": "vQ0UlbwSD4wY",
        "outputId": "0095cb27-0978-4da3-b7f1-9c956189ea68"
      },
      "execution_count": 23,
      "outputs": [
        {
          "output_type": "stream",
          "name": "stdout",
          "text": [
            "student:Mark,20,Physics\n",
            "student:Mia,15,None\n",
            "Mark says: I need sleep\n",
            "Mia says: I have homework\n"
          ]
        }
      ]
    },
    {
      "cell_type": "code",
      "source": [
        "class Horse(Animal):\n",
        "  tag = 1\n",
        "  def __init__(self, age):\n",
        "    Animal.__init__(self, age)\n",
        "    self.hid = Horse.tag\n",
        "    Horse.tag += 1\n",
        "  def get_hid(self):\n",
        "    return str(self.hid).zfill(3)\n",
        "\n",
        "H1 = Horse(6)\n",
        "print(H1)\n",
        "print(H1.get_age())\n",
        "print(H1.get_hid())"
      ],
      "metadata": {
        "colab": {
          "base_uri": "https://localhost:8080/"
        },
        "id": "O63vHNf2EdFb",
        "outputId": "d840e9f5-9681-4e9c-9de1-9863b7e9127e"
      },
      "execution_count": 25,
      "outputs": [
        {
          "output_type": "stream",
          "name": "stdout",
          "text": [
            "animal:None,6\n",
            "6\n",
            "001\n"
          ]
        }
      ]
    }
  ]
}