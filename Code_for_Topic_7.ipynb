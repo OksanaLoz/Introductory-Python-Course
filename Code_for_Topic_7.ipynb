{
  "nbformat": 4,
  "nbformat_minor": 0,
  "metadata": {
    "colab": {
      "provenance": []
    },
    "kernelspec": {
      "name": "python3",
      "display_name": "Python 3"
    },
    "language_info": {
      "name": "python"
    }
  },
  "cells": [
    {
      "cell_type": "code",
      "execution_count": 1,
      "metadata": {
        "id": "E0jHKwtJUDAB",
        "colab": {
          "base_uri": "https://localhost:8080/"
        },
        "outputId": "c64e22da-924c-4885-89d4-26ca68234b7f"
      },
      "outputs": [
        {
          "output_type": "stream",
          "name": "stdout",
          "text": [
            "3\n",
            "3\n"
          ]
        }
      ],
      "source": [
        "x=3\n",
        "y=x\n",
        "print(x)\n",
        "print(y)"
      ]
    },
    {
      "cell_type": "code",
      "source": [
        "animals = ['cat', 'horse', 'dog']\n",
        "animals_1 = animals\n",
        "animals_1.append('cow')\n",
        "print(animals)\n",
        "print(animals_1)"
      ],
      "metadata": {
        "colab": {
          "base_uri": "https://localhost:8080/"
        },
        "id": "8O67P257Whry",
        "outputId": "710daa8b-439a-4e4b-f797-24266bbc1ebc"
      },
      "execution_count": 2,
      "outputs": [
        {
          "output_type": "stream",
          "name": "stdout",
          "text": [
            "['cat', 'horse', 'dog', 'cow']\n",
            "['cat', 'horse', 'dog', 'cow']\n"
          ]
        }
      ]
    },
    {
      "cell_type": "code",
      "source": [
        "animals = ['cat', 'horse', 'dog']\n",
        "animals_2 = animals[:]\n",
        "animals_2.append('cow')\n",
        "print(animals)\n",
        "print(animals_2)"
      ],
      "metadata": {
        "colab": {
          "base_uri": "https://localhost:8080/"
        },
        "id": "AAY8Ljd1WqqJ",
        "outputId": "59837c30-5e94-49c1-e520-4a1099f87af5"
      },
      "execution_count": 3,
      "outputs": [
        {
          "output_type": "stream",
          "name": "stdout",
          "text": [
            "['cat', 'horse', 'dog']\n",
            "['cat', 'horse', 'dog', 'cow']\n"
          ]
        }
      ]
    },
    {
      "cell_type": "code",
      "source": [
        "animals = ['cat', 'horse', 'dog']\n",
        "sorted_animals = animals.sort()\n",
        "print(animals)\n",
        "print(sorted_animals)"
      ],
      "metadata": {
        "colab": {
          "base_uri": "https://localhost:8080/"
        },
        "id": "jxbo7krvWsWp",
        "outputId": "ea3dee2d-cf18-4374-afec-5a76116e0380"
      },
      "execution_count": 4,
      "outputs": [
        {
          "output_type": "stream",
          "name": "stdout",
          "text": [
            "['cat', 'dog', 'horse']\n",
            "None\n"
          ]
        }
      ]
    },
    {
      "cell_type": "code",
      "source": [
        "animals = ['cat', 'horse', 'dog']\n",
        "sorted_animals_1 = sorted(animals)\n",
        "print(animals)\n",
        "print(sorted_animals_1)"
      ],
      "metadata": {
        "colab": {
          "base_uri": "https://localhost:8080/"
        },
        "id": "8ys0yEV5W0r0",
        "outputId": "63f83ca6-279d-4a1b-e890-bf28be6acb37"
      },
      "execution_count": 5,
      "outputs": [
        {
          "output_type": "stream",
          "name": "stdout",
          "text": [
            "['cat', 'horse', 'dog']\n",
            "['cat', 'dog', 'horse']\n"
          ]
        }
      ]
    },
    {
      "cell_type": "code",
      "source": [
        "nimals = ['cat', 'horse']\n",
        "animals_1 = ['dog']\n",
        "animals_2 = [animals]\n",
        "print(animals_2)\n",
        "animals_2.append(animals_1)\n",
        "print(animals_2)\n",
        "animals_1.append('cow')\n",
        "print(animals_1)\n",
        "print(animals_2)"
      ],
      "metadata": {
        "colab": {
          "base_uri": "https://localhost:8080/"
        },
        "id": "IBNIC3m1W6uK",
        "outputId": "382980bf-d800-478b-efcc-ffcf252c9d29"
      },
      "execution_count": 6,
      "outputs": [
        {
          "output_type": "stream",
          "name": "stdout",
          "text": [
            "[['cat', 'horse', 'dog']]\n",
            "[['cat', 'horse', 'dog'], ['dog']]\n",
            "['dog', 'cow']\n",
            "[['cat', 'horse', 'dog'], ['dog', 'cow']]\n"
          ]
        }
      ]
    },
    {
      "cell_type": "code",
      "source": [
        "def remove_dups(L1, L2):\n",
        "  for i in L1:\n",
        "    if i in L2:\n",
        "      L1.remove(i)\n",
        "L1 = [9, 8, 7, 6]\n",
        "L2 = [7, 6, 5, 4]\n",
        "remove_dups(L1, L2)\n",
        "print(L1)\n",
        "print(L2)"
      ],
      "metadata": {
        "colab": {
          "base_uri": "https://localhost:8080/"
        },
        "id": "vOD-I5o0W-HN",
        "outputId": "fb6c35fc-5047-4ea7-fe21-4206566fbcdd"
      },
      "execution_count": 8,
      "outputs": [
        {
          "output_type": "stream",
          "name": "stdout",
          "text": [
            "[9, 8, 6]\n",
            "[7, 6, 5, 4]\n"
          ]
        }
      ]
    },
    {
      "cell_type": "code",
      "source": [
        "def remove_dups(L1, L2):\n",
        "  L1_copy = L1[:]\n",
        "  for i in L1_copy:\n",
        "    if i in L2:\n",
        "      L1.remove(i)\n",
        "L1 = [9, 8, 7, 6]\n",
        "L2 = [7, 6, 5, 4]\n",
        "remove_dups(L1, L2)\n",
        "print(L1)\n",
        "print(L2)"
      ],
      "metadata": {
        "colab": {
          "base_uri": "https://localhost:8080/"
        },
        "id": "hWoEkUHUXE-T",
        "outputId": "c318e059-8690-49c5-b5bf-f635fe1fce46"
      },
      "execution_count": 9,
      "outputs": [
        {
          "output_type": "stream",
          "name": "stdout",
          "text": [
            "[9, 8]\n",
            "[7, 6, 5, 4]\n"
          ]
        }
      ]
    },
    {
      "cell_type": "code",
      "source": [
        "names = ['Jane', 'Carl', 'John', 'Kate']\n",
        "grades = ['A', 'B', 'C', 'B']\n",
        "def get_grade(student, names_list, grades_list):\n",
        "  i = names_list.index(student)\n",
        "  grade = grades_list[i]\n",
        "  return (grade)\n",
        "print(get_grade('Jane',names,grades))"
      ],
      "metadata": {
        "colab": {
          "base_uri": "https://localhost:8080/"
        },
        "id": "CNfDsvgiXIvS",
        "outputId": "3779abad-ca1d-4270-be27-39aad906d875"
      },
      "execution_count": 10,
      "outputs": [
        {
          "output_type": "stream",
          "name": "stdout",
          "text": [
            "A\n"
          ]
        }
      ]
    },
    {
      "cell_type": "code",
      "source": [
        "grades = {'Jane':'A', 'Carl':'B', 'John':'C', 'Kate':'B'}\n",
        "print(grades['Jane'])"
      ],
      "metadata": {
        "colab": {
          "base_uri": "https://localhost:8080/"
        },
        "id": "p5z5wDeLXJ5s",
        "outputId": "e154d2c3-baeb-4210-d1f4-563ae1a36345"
      },
      "execution_count": 11,
      "outputs": [
        {
          "output_type": "stream",
          "name": "stdout",
          "text": [
            "A\n"
          ]
        }
      ]
    },
    {
      "cell_type": "code",
      "source": [
        "grades = {'Jane':'A', 'Carl':'B', 'John':'C', 'Kate':'B'}\n",
        "print(grades)\n",
        "grades['Vlad'] = 'B'\n",
        "print(grades)\n",
        "print('Jane' in grades)\n",
        "print('Dan' in grades)\n",
        "del(grades['Jane'])\n",
        "print(grades)\n",
        "print(grades.keys())\n",
        "print(grades.values())"
      ],
      "metadata": {
        "colab": {
          "base_uri": "https://localhost:8080/"
        },
        "id": "qXHOgH4LXN85",
        "outputId": "1e8e43a4-d29c-45b6-93f9-76dbf345630d"
      },
      "execution_count": 16,
      "outputs": [
        {
          "output_type": "stream",
          "name": "stdout",
          "text": [
            "{'Jane': 'A', 'Carl': 'B', 'John': 'C', 'Kate': 'B'}\n",
            "{'Jane': 'A', 'Carl': 'B', 'John': 'C', 'Kate': 'B', 'Vlad': 'B'}\n",
            "True\n",
            "False\n",
            "{'Carl': 'B', 'John': 'C', 'Kate': 'B', 'Vlad': 'B'}\n",
            "dict_keys(['Carl', 'John', 'Kate', 'Vlad'])\n",
            "dict_values(['B', 'C', 'B', 'B'])\n"
          ]
        }
      ]
    },
    {
      "cell_type": "code",
      "source": [
        "def words_frequencies(some_text):\n",
        "     frequency_dictionary = {}\n",
        "     for word in some_text:\n",
        "         if word in frequency_dictionary:\n",
        "             frequency_dictionary[word] += 1\n",
        "         else:\n",
        "             frequency_dictionary[word] = 1\n",
        "     return frequency_dictionary\n",
        "\n",
        "text = ['Beautiful','is','better','than','ugly','Explicit','is','better','than','implicit']\n",
        "print(words_frequencies(text))"
      ],
      "metadata": {
        "colab": {
          "base_uri": "https://localhost:8080/"
        },
        "id": "H6Z-qgenXrFb",
        "outputId": "bc54e4e8-9ed2-4f31-a24a-f24dd23fae68"
      },
      "execution_count": 17,
      "outputs": [
        {
          "output_type": "stream",
          "name": "stdout",
          "text": [
            "{'Beautiful': 1, 'is': 2, 'better': 2, 'than': 2, 'ugly': 1, 'Explicit': 1, 'implicit': 1}\n"
          ]
        }
      ]
    }
  ]
}