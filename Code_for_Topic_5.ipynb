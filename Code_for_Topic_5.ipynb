{
  "nbformat": 4,
  "nbformat_minor": 0,
  "metadata": {
    "colab": {
      "provenance": []
    },
    "kernelspec": {
      "name": "python3",
      "display_name": "Python 3"
    },
    "language_info": {
      "name": "python"
    }
  },
  "cells": [
    {
      "cell_type": "code",
      "execution_count": 1,
      "metadata": {
        "id": "5MljOQ1uKXaQ",
        "colab": {
          "base_uri": "https://localhost:8080/"
        },
        "outputId": "213da023-655d-453c-9a94-917207c0cd83"
      },
      "outputs": [
        {
          "output_type": "stream",
          "name": "stdout",
          "text": [
            "105.0\n"
          ]
        }
      ],
      "source": [
        "def amount(n):\n",
        "  '''\n",
        "  Input: nubmer of years.\n",
        "  Returns the final amount on a bank deposit,\n",
        "  P is the initial deposit (the principal),\n",
        "  r is the yearly interest rate given in percent.\n",
        "  '''\n",
        "  P = 100\n",
        "  r = 5.0\n",
        "  return P*(1+r/100)**n\n",
        "\n",
        "A = amount(1)\n",
        "print(A)"
      ]
    },
    {
      "cell_type": "code",
      "source": [
        "def is_even(n):\n",
        "  '''\n",
        "  Input: n, a positive int.\n",
        "  Returns True if n is even,\n",
        "  otherwise False\n",
        "  '''\n",
        "  print('Number is even')\n",
        "  return n%2 == 0\n",
        "\n",
        "print(is_even(7))"
      ],
      "metadata": {
        "colab": {
          "base_uri": "https://localhost:8080/"
        },
        "id": "wnphEFR7Kn7F",
        "outputId": "8061e31f-ee6b-4e35-d85d-b8f82fd0237b"
      },
      "execution_count": 2,
      "outputs": [
        {
          "output_type": "stream",
          "name": "stdout",
          "text": [
            "Number is even\n",
            "False\n"
          ]
        }
      ]
    },
    {
      "cell_type": "code",
      "source": [
        "def max(x,y) :\n",
        "  '''\n",
        "  Input: two floats or ints.\n",
        "  Returns the max value of two numbers,\n",
        "  if numbers are equal returns phrase\n",
        "  'Numbers are equal'\n",
        "  '''\n",
        "  if x==y:\n",
        "    return 'Numbers are equal'\n",
        "  elif x > y:\n",
        "    return x\n",
        "  else:\n",
        "    return y\n",
        "\n",
        "print(max(5.0,5))"
      ],
      "metadata": {
        "colab": {
          "base_uri": "https://localhost:8080/"
        },
        "id": "fxSSzNpZK4Xn",
        "outputId": "7b5e3e1a-c189-4306-e30a-ab410849f59f"
      },
      "execution_count": 3,
      "outputs": [
        {
          "output_type": "stream",
          "name": "stdout",
          "text": [
            "Numbers are equal\n"
          ]
        }
      ]
    },
    {
      "cell_type": "code",
      "source": [
        "def yfunc(t, v0=5, g=9.81) :\n",
        "  \"\"\"\n",
        "  Input: time t, the initial velocity v0,\n",
        "  the gravitational constant g.\n",
        "  Returns the hight of an object in vertical motion\n",
        "  \"\"\"\n",
        "  y = v0*t - 0.5*g*t**2\n",
        "  return y\n",
        "\n",
        "#example calls:\n",
        "y1 = yfunc(0.2)\n",
        "y2 = yfunc(0.2, 7.5)\n",
        "y3 = yfunc(0.2,7.5,10.0)\n",
        "print(y1)\n",
        "print(y2)\n",
        "print(y3)"
      ],
      "metadata": {
        "colab": {
          "base_uri": "https://localhost:8080/"
        },
        "id": "kEf2Lk0VK7P4",
        "outputId": "ecf05240-a156-4167-e34a-bde09814f4b8"
      },
      "execution_count": 10,
      "outputs": [
        {
          "output_type": "stream",
          "name": "stdout",
          "text": [
            "0.8038\n",
            "1.3037999999999998\n",
            "1.3\n"
          ]
        }
      ]
    },
    {
      "cell_type": "code",
      "source": [
        "def f(x):\n",
        "  x=x+1\n",
        "  return x\n",
        "\n",
        "x=5\n",
        "y=f(x)\n",
        "print(y)"
      ],
      "metadata": {
        "colab": {
          "base_uri": "https://localhost:8080/"
        },
        "id": "KNvHTSb3MtL6",
        "outputId": "df5e4ac2-d665-465c-d932-2fd0678b28e6"
      },
      "execution_count": 11,
      "outputs": [
        {
          "output_type": "stream",
          "name": "stdout",
          "text": [
            "6\n"
          ]
        }
      ]
    },
    {
      "cell_type": "code",
      "source": [
        "def is_even_no_return(n):\n",
        "  '''\n",
        "  Input: n, a positive int\n",
        "  Does not return anything\n",
        "  '''\n",
        "  print('Number is even')\n",
        "  n%2 == 0\n",
        "\n",
        "print(is_even_no_return(7))"
      ],
      "metadata": {
        "colab": {
          "base_uri": "https://localhost:8080/"
        },
        "id": "vVWcVj1dMzTw",
        "outputId": "2ea44752-8d3a-4d82-a274-6c9192005e75"
      },
      "execution_count": 12,
      "outputs": [
        {
          "output_type": "stream",
          "name": "stdout",
          "text": [
            "Number is even\n",
            "None\n"
          ]
        }
      ]
    },
    {
      "cell_type": "code",
      "source": [
        "def Amount(P,r,n):\n",
        "  '''\n",
        "  Input: the initial deposit (the principal) P,\n",
        "  the yearly interest rate given in percent r,\n",
        "  nubmer of years n.\n",
        "  Returns the final amount on a bank deposit.\n",
        "  '''\n",
        "  return P*(1+r/100)**n\n",
        "\n",
        "A1 = Amount(100, 5.0, 10)\n",
        "A2 = Amount(100, r= 5.0, n=10)\n",
        "A3 = Amount(r= 5, n = 10, P=100)\n",
        "print(A1)\n",
        "print(A2)\n",
        "print(A3)"
      ],
      "metadata": {
        "colab": {
          "base_uri": "https://localhost:8080/"
        },
        "id": "0RZqvw78M4Eu",
        "outputId": "6682c6e4-c3d2-4fe3-c7dc-52fe3fcad931"
      },
      "execution_count": 13,
      "outputs": [
        {
          "output_type": "stream",
          "name": "stdout",
          "text": [
            "162.8894626777442\n",
            "162.8894626777442\n",
            "162.8894626777442\n"
          ]
        }
      ]
    },
    {
      "cell_type": "code",
      "source": [
        "P = 100\n",
        "r = 5\n",
        "def amount(n):\n",
        "  return P*(1+r/100)**n\n",
        "\n",
        "A = amount(10)\n",
        "print(A)\n",
        "print(r)"
      ],
      "metadata": {
        "colab": {
          "base_uri": "https://localhost:8080/"
        },
        "id": "3GMco4-_NBnP",
        "outputId": "86699d13-99f7-4490-dc2b-abf686c09690"
      },
      "execution_count": 14,
      "outputs": [
        {
          "output_type": "stream",
          "name": "stdout",
          "text": [
            "162.8894626777442\n",
            "5\n"
          ]
        }
      ]
    },
    {
      "cell_type": "code",
      "source": [
        "P = 100\n",
        "r = 5\n",
        "def amount(n):\n",
        "  r=4\n",
        "  return P*(1+r/100)**n\n",
        "\n",
        "A = amount(10)\n",
        "print(A)\n",
        "print(r)"
      ],
      "metadata": {
        "colab": {
          "base_uri": "https://localhost:8080/"
        },
        "id": "lAHR9dP9NHI-",
        "outputId": "de40a600-1ff7-4859-a80c-4a29ba9302d0"
      },
      "execution_count": 15,
      "outputs": [
        {
          "output_type": "stream",
          "name": "stdout",
          "text": [
            "148.02442849183444\n",
            "5\n"
          ]
        }
      ]
    },
    {
      "cell_type": "code",
      "source": [
        "def func_a():\n",
        "  print('inside func_a')\n",
        "\n",
        "def func_b(y):\n",
        "  print('inside func_b')\n",
        "  return y\n",
        "\n",
        "def func_c(z):\n",
        "  print('inside func_c')\n",
        "  return z()\n",
        "\n",
        "print(func_a())\n",
        "print(5 + func_b(2))\n",
        "print(func_c(func_a))"
      ],
      "metadata": {
        "colab": {
          "base_uri": "https://localhost:8080/"
        },
        "id": "9eiAoRHfNLZT",
        "outputId": "4ed96b2f-b538-4261-dd41-a71a9ece764e"
      },
      "execution_count": 16,
      "outputs": [
        {
          "output_type": "stream",
          "name": "stdout",
          "text": [
            "inside func_a\n",
            "None\n",
            "inside func_b\n",
            "7\n",
            "inside func_c\n",
            "inside func_a\n",
            "None\n"
          ]
        }
      ]
    },
    {
      "cell_type": "code",
      "source": [
        "def f(x):\n",
        "  return x**2 - 1\n",
        "\n",
        "print(f(3))"
      ],
      "metadata": {
        "colab": {
          "base_uri": "https://localhost:8080/"
        },
        "id": "Aw0JTd8lNPyD",
        "outputId": "bbda8577-b2aa-4d43-c4e5-c6d077b870cf"
      },
      "execution_count": 21,
      "outputs": [
        {
          "output_type": "stream",
          "name": "stdout",
          "text": [
            "8\n"
          ]
        }
      ]
    },
    {
      "cell_type": "code",
      "source": [
        "f = lambda x: x**2 - 1\n",
        "print(f(3))"
      ],
      "metadata": {
        "colab": {
          "base_uri": "https://localhost:8080/"
        },
        "id": "16VxPbM7NVFP",
        "outputId": "0246c8fb-1f0c-49bd-ae07-2e01471bdd3b"
      },
      "execution_count": 22,
      "outputs": [
        {
          "output_type": "stream",
          "name": "stdout",
          "text": [
            "8\n"
          ]
        }
      ]
    },
    {
      "cell_type": "code",
      "source": [
        "s = lambda a, b, c : a + b + c\n",
        "print(s(34, 6, 5))"
      ],
      "metadata": {
        "colab": {
          "base_uri": "https://localhost:8080/"
        },
        "id": "BkbrCft-NY3-",
        "outputId": "2e733be7-ee37-41cf-bdbf-3b0157dbba9a"
      },
      "execution_count": 20,
      "outputs": [
        {
          "output_type": "stream",
          "name": "stdout",
          "text": [
            "45\n"
          ]
        }
      ]
    },
    {
      "cell_type": "code",
      "source": [
        "def F(n):\n",
        "  return lambda a : a * n\n",
        "tripler = F(3)\n",
        "print(tripler(11))"
      ],
      "metadata": {
        "id": "7iW4uFk6NkAn"
      },
      "execution_count": null,
      "outputs": []
    }
  ]
}