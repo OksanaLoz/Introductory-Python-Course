{
  "nbformat": 4,
  "nbformat_minor": 0,
  "metadata": {
    "colab": {
      "provenance": []
    },
    "kernelspec": {
      "name": "python3",
      "display_name": "Python 3"
    },
    "language_info": {
      "name": "python"
    }
  },
  "cells": [
    {
      "cell_type": "code",
      "execution_count": 1,
      "metadata": {
        "id": "nnKIeD_0EnLw",
        "colab": {
          "base_uri": "https://localhost:8080/"
        },
        "outputId": "302d282e-5cb3-4856-991f-35636491dff7"
      },
      "outputs": [
        {
          "output_type": "stream",
          "name": "stdout",
          "text": [
            "Cube root of 8 is 2\n"
          ]
        }
      ],
      "source": [
        "cube = 8\n",
        "for guess in range(cube+1):\n",
        "  if guess**3 == cube:\n",
        "    print(\"Cube root of\", cube, \"is\", guess)"
      ]
    },
    {
      "cell_type": "code",
      "source": [
        "cube = 8\n",
        "for guess in range(abs(cube)+1):\n",
        "  if guess**3 >= abs(cube):\n",
        "    break\n",
        "if guess**3 != abs(cube):\n",
        "    print(cube, 'is not a perfect cube')\n",
        "else:\n",
        "  if cube < 0:\n",
        "    guess = -guess\n",
        "  print('Cube root of '+str(cube)+' is '+str(guess))"
      ],
      "metadata": {
        "id": "YxC3XJQyEohm",
        "colab": {
          "base_uri": "https://localhost:8080/"
        },
        "outputId": "975efed5-be5c-4b92-bea2-5d49d9d11325"
      },
      "execution_count": 2,
      "outputs": [
        {
          "output_type": "stream",
          "name": "stdout",
          "text": [
            "Cube root of 8 is 2\n"
          ]
        }
      ]
    },
    {
      "cell_type": "code",
      "source": [
        "cube =27\n",
        "epsilon = 0.01\n",
        "guess = 0.0\n",
        "increment = 0.0001\n",
        "N_guesses = 0\n",
        "while abs(guess**3 - cube) >= epsilon :\n",
        "  guess += increment\n",
        "  N_guesses += 1\n",
        "print('number of guesses =', N_guesses)\n",
        "if abs(guess**3 - cube) >= epsilon:\n",
        "  print('Failed on cube root of', cube)\n",
        "else:\n",
        "  print(guess, 'is close to the cube root of', cube)"
      ],
      "metadata": {
        "colab": {
          "base_uri": "https://localhost:8080/"
        },
        "id": "PFVgOIrEGM1E",
        "outputId": "40183e58-daf2-4875-b27d-af985e9b0d6f"
      },
      "execution_count": 7,
      "outputs": [
        {
          "output_type": "stream",
          "name": "stdout",
          "text": [
            "number of guesses = 29997\n",
            "2.999700000001906 is close to the cube root of 27\n"
          ]
        }
      ]
    },
    {
      "cell_type": "code",
      "source": [
        "cube =27\n",
        "epsilon = 0.01\n",
        "guess = 0.0\n",
        "increment = 0.1\n",
        "N_guesses = 0\n",
        "while abs(guess**3 - cube) >= epsilon :\n",
        "  guess += increment\n",
        "  N_guesses += 1\n",
        "print('number of guesses =', N_guesses)\n",
        "if abs(guess**3 - cube) >= epsilon:\n",
        "  print('Failed on cube root of', cube)\n",
        "else:\n",
        "  print(guess, 'is close to the cube root of', cube)"
      ],
      "metadata": {
        "colab": {
          "base_uri": "https://localhost:8080/"
        },
        "id": "Kj25QL9GGQUx",
        "outputId": "b4b0c060-0d35-4fa1-faee-a5152ec9e2e1"
      },
      "execution_count": 8,
      "outputs": [
        {
          "output_type": "stream",
          "name": "stdout",
          "text": [
            "number of guesses = 30\n",
            "3.0000000000000013 is close to the cube root of 27\n"
          ]
        }
      ]
    },
    {
      "cell_type": "code",
      "source": [
        "cube =8120601\n",
        "epsilon = 0.01\n",
        "guess = 0.0\n",
        "increment = 0.1\n",
        "N_guesses = 0\n",
        "while abs(guess**3 - cube) >= epsilon :\n",
        "  guess += increment\n",
        "  N_guesses += 1\n",
        "print('number of guesses =', N_guesses)\n",
        "if abs(guess**3 - cube) >= epsilon:\n",
        "  print('Failed on cube root of', cube)\n",
        "else:\n",
        "  print(guess, 'is close to the cube root of', cube)"
      ],
      "metadata": {
        "colab": {
          "base_uri": "https://localhost:8080/"
        },
        "id": "4H_g2XvSGdBl",
        "outputId": "70d8e548-e5d9-4c7d-f582-81aa0a80dbdc"
      },
      "execution_count": 9,
      "outputs": [
        {
          "output_type": "stream",
          "name": "stdout",
          "text": [
            "number of guesses = 2010\n",
            "200.99999999999287 is close to the cube root of 8120601\n"
          ]
        }
      ]
    },
    {
      "cell_type": "code",
      "source": [
        "cube =10000\n",
        "epsilon = 0.01\n",
        "guess = 0.0\n",
        "increment = 0.1\n",
        "N_guesses = 0\n",
        "while abs(guess**3 - cube) >= epsilon and guess <= cube :\n",
        "  guess += increment\n",
        "  N_guesses += 1\n",
        "print('number of guesses =', N_guesses)\n",
        "if abs(guess**3 - cube) >= epsilon:\n",
        "  print('Failed on cube root of', cube)\n",
        "else:\n",
        "  print(guess, 'is close to the cube root of', cube)"
      ],
      "metadata": {
        "colab": {
          "base_uri": "https://localhost:8080/"
        },
        "id": "Wl401VXbGko6",
        "outputId": "6b53ecbc-682a-47f0-e097-20d7e2db579d"
      },
      "execution_count": 6,
      "outputs": [
        {
          "output_type": "stream",
          "name": "stdout",
          "text": [
            "number of guesses = 100000\n",
            "Failed on cube root of 10000\n"
          ]
        }
      ]
    },
    {
      "cell_type": "code",
      "source": [
        "cube = 27\n",
        "epsilon = 0.01\n",
        "N_guesses = 0\n",
        "low = 0\n",
        "high = cube\n",
        "guess = (high + low)/2.0\n",
        "while abs(guess**3 - cube) >= epsilon:\n",
        " if guess**3 < cube :\n",
        "  low = guess\n",
        " else:\n",
        "  high = guess\n",
        " guess = (high + low)/2.0\n",
        " N_guesses += 1\n",
        "print ('number of guesses =', N_guesses)\n",
        "print (guess, 'is close to the cube root of', cube)"
      ],
      "metadata": {
        "colab": {
          "base_uri": "https://localhost:8080/"
        },
        "id": "WujlouQ7G4PN",
        "outputId": "2fe5cecb-7b34-4b77-9c36-75bf73090950"
      },
      "execution_count": 10,
      "outputs": [
        {
          "output_type": "stream",
          "name": "stdout",
          "text": [
            "number of guesses = 14\n",
            "3.000091552734375 is close to the cube root of 27\n"
          ]
        }
      ]
    }
  ]
}