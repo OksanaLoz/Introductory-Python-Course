{
  "nbformat": 4,
  "nbformat_minor": 0,
  "metadata": {
    "colab": {
      "provenance": []
    },
    "kernelspec": {
      "name": "python3",
      "display_name": "Python 3"
    },
    "language_info": {
      "name": "python"
    }
  },
  "cells": [
    {
      "cell_type": "code",
      "execution_count": null,
      "metadata": {
        "id": "xCLu3j5AHeYE"
      },
      "outputs": [],
      "source": [
        "from google.colab import drive\n",
        "drive.mount('/content/drive')"
      ]
    },
    {
      "cell_type": "code",
      "source": [
        "import sys\n",
        "sys.path.append('/content/drive/MyDrive/Colab_Notebooks')\n",
        "\n",
        "import circle\n",
        "print(circle.pi)\n",
        "print(circle.area(3))\n",
        "print(circle.circumference(3))"
      ],
      "metadata": {
        "id": "nSq0ZYzOHoMX"
      },
      "execution_count": null,
      "outputs": []
    },
    {
      "cell_type": "code",
      "source": [
        "import sys\n",
        "sys.path.append('/content/drive/MyDrive/Colab_Notebooks')\n",
        "\n",
        "from circle import *\n",
        "print(pi)\n",
        "print(area(3))\n",
        "print(circumference(3))"
      ],
      "metadata": {
        "id": "Pa3Llk4mI20p"
      },
      "execution_count": null,
      "outputs": []
    },
    {
      "cell_type": "code",
      "source": [
        "example = '/content/drive/MyDrive/Colab_Notebooks/data_1.txt'\n",
        "infile = open(example,'r') # 'r' for reading\n",
        "\n",
        "lines = 0\n",
        "for line in infile:\n",
        "  number = float(line) # line is a string\n",
        "  print(number)\n",
        "  lines = lines + 1\n",
        "\n",
        "N = lines\n",
        "print(f'The number of lines is {N}')\n",
        "\n",
        "infile.close()"
      ],
      "metadata": {
        "id": "qW4oPIIzI4Ve"
      },
      "execution_count": null,
      "outputs": []
    },
    {
      "cell_type": "code",
      "source": [
        "# Open file using with\n",
        "example = '/content/drive/MyDrive/Colab_Notebooks/data_1.txt'\n",
        "with open(example, \"r\") as file:\n",
        "  FileContent = file.read()\n",
        "  print(FileContent)"
      ],
      "metadata": {
        "id": "B3LoNZryJpOe"
      },
      "execution_count": null,
      "outputs": []
    },
    {
      "cell_type": "code",
      "source": [
        "example = '/content/drive/MyDrive/Colab_Notebooks/data_2.txt'\n",
        "outfile = open(example, 'w') # 'w' for writing\n",
        "\n",
        "for data in range(N):\n",
        "  outfile.write('20.3' + '\\n')\n",
        "\n",
        "outfile.close()\n",
        "\n",
        "with open(example, \"r\") as file:\n",
        "  FileContent = file.read()\n",
        "  print(FileContent)"
      ],
      "metadata": {
        "id": "rFD28t_GJ93N"
      },
      "execution_count": null,
      "outputs": []
    },
    {
      "cell_type": "code",
      "source": [
        "with open('data_1.txt', 'w') as outfile: # ’w’ for writing\n",
        "  for data in range(N):\n",
        "    outfile.write('25.3' + '\\n')\n",
        "\n",
        "with open('data_1.txt', \"r\") as file:\n",
        "  FileContent = file.read()\n",
        "  print(FileContent)"
      ],
      "metadata": {
        "id": "LL1nlLHSKNa2"
      },
      "execution_count": null,
      "outputs": []
    },
    {
      "cell_type": "code",
      "source": [
        "with open('data_1.txt', 'a') as outfile: # 'a' for appending\n",
        "  outfile.write('25.3' + '\\n')\n",
        "\n",
        "with open('data_1.txt', \"r\") as file:\n",
        "  FileContent = file.read()\n",
        "  print(FileContent)"
      ],
      "metadata": {
        "id": "czJTch3bKXGS"
      },
      "execution_count": null,
      "outputs": []
    },
    {
      "cell_type": "code",
      "source": [
        "from tabulate import tabulate\n",
        "table = [['First Name', 'Last Name', 'Age'],\n",
        "         ['John', 'Smith', 39],\n",
        "         ['Mary', 'Jane', 25],\n",
        "         ['Jennifer', 'Doe', 28]]\n",
        "\n",
        "print(tabulate(table))\n",
        "print(tabulate(table, headers='firstrow'))\n",
        "print(tabulate(table, headers='firstrow', tablefmt='grid'))\n",
        "print(tabulate(table, headers='firstrow', tablefmt='fancy_grid'))"
      ],
      "metadata": {
        "colab": {
          "base_uri": "https://localhost:8080/"
        },
        "id": "kAUt2el_Kw2a",
        "outputId": "f0722f82-4b45-401c-a748-de77c027b464"
      },
      "execution_count": 1,
      "outputs": [
        {
          "output_type": "stream",
          "name": "stdout",
          "text": [
            "----------  ---------  ---\n",
            "First Name  Last Name  Age\n",
            "John        Smith      39\n",
            "Mary        Jane       25\n",
            "Jennifer    Doe        28\n",
            "----------  ---------  ---\n",
            "First Name    Last Name      Age\n",
            "------------  -----------  -----\n",
            "John          Smith           39\n",
            "Mary          Jane            25\n",
            "Jennifer      Doe             28\n",
            "+--------------+-------------+-------+\n",
            "| First Name   | Last Name   |   Age |\n",
            "+==============+=============+=======+\n",
            "| John         | Smith       |    39 |\n",
            "+--------------+-------------+-------+\n",
            "| Mary         | Jane        |    25 |\n",
            "+--------------+-------------+-------+\n",
            "| Jennifer     | Doe         |    28 |\n",
            "+--------------+-------------+-------+\n",
            "╒══════════════╤═════════════╤═══════╕\n",
            "│ First Name   │ Last Name   │   Age │\n",
            "╞══════════════╪═════════════╪═══════╡\n",
            "│ John         │ Smith       │    39 │\n",
            "├──────────────┼─────────────┼───────┤\n",
            "│ Mary         │ Jane        │    25 │\n",
            "├──────────────┼─────────────┼───────┤\n",
            "│ Jennifer     │ Doe         │    28 │\n",
            "╘══════════════╧═════════════╧═══════╛\n"
          ]
        }
      ]
    },
    {
      "cell_type": "code",
      "source": [
        "info = {'First Name': ['John', 'Mary', 'Jennifer'],\n",
        "        'Last Name': ['Smith', 'Jane', 'Doe'],\n",
        "        'Age': [39, 25, 28]}\n",
        "\n",
        "print(tabulate(info, headers='keys', tablefmt='fancy_grid', showindex = True))\n",
        "print(tabulate(info, headers='keys', tablefmt='fancy_grid', showindex = range(1,4)))"
      ],
      "metadata": {
        "colab": {
          "base_uri": "https://localhost:8080/"
        },
        "id": "QRG4jdLkK9Ym",
        "outputId": "f596e345-8552-4ac4-b860-7b7dea96f7a0"
      },
      "execution_count": 2,
      "outputs": [
        {
          "output_type": "stream",
          "name": "stdout",
          "text": [
            "╒════╤══════════════╤═════════════╤═══════╕\n",
            "│    │ First Name   │ Last Name   │   Age │\n",
            "╞════╪══════════════╪═════════════╪═══════╡\n",
            "│  0 │ John         │ Smith       │    39 │\n",
            "├────┼──────────────┼─────────────┼───────┤\n",
            "│  1 │ Mary         │ Jane        │    25 │\n",
            "├────┼──────────────┼─────────────┼───────┤\n",
            "│  2 │ Jennifer     │ Doe         │    28 │\n",
            "╘════╧══════════════╧═════════════╧═══════╛\n",
            "╒════╤══════════════╤═════════════╤═══════╕\n",
            "│    │ First Name   │ Last Name   │   Age │\n",
            "╞════╪══════════════╪═════════════╪═══════╡\n",
            "│  1 │ John         │ Smith       │    39 │\n",
            "├────┼──────────────┼─────────────┼───────┤\n",
            "│  2 │ Mary         │ Jane        │    25 │\n",
            "├────┼──────────────┼─────────────┼───────┤\n",
            "│  3 │ Jennifer     │ Doe         │    28 │\n",
            "╘════╧══════════════╧═════════════╧═══════╛\n"
          ]
        }
      ]
    },
    {
      "cell_type": "code",
      "source": [
        "table = tabulate({'First Name': ['John', 'Mary','Jennifer'],\n",
        "                 'Last Name': ['Smith', 'Jane', 'Doe'],\n",
        "                 'Age': [39, 25, 28]},\n",
        "                 headers='keys', tablefmt='fancy_grid')\n",
        "\n",
        "with open('table.txt', 'w') as file:\n",
        "  file.write(table)\n",
        "\n",
        "with open('table.txt', \"r\") as file:\n",
        "    FileContent = file.read()\n",
        "    print(FileContent)"
      ],
      "metadata": {
        "id": "0nr9VQkqLBm0"
      },
      "execution_count": null,
      "outputs": []
    },
    {
      "cell_type": "code",
      "source": [
        "import pandas as pd\n",
        "example = '/content/drive/MyDrive/Colab_Notebooks/springData.txt'\n",
        "df = pd.read_table(example, sep=' ', header=0)\n",
        "print(df.head(5))"
      ],
      "metadata": {
        "id": "aAdtACl_LTOr"
      },
      "execution_count": null,
      "outputs": []
    },
    {
      "cell_type": "code",
      "source": [
        "import pylab\n",
        "import numpy as np\n",
        "\n",
        "x = np.linspace(0, 10, 1000) # 1000 evenly-spaced values from 0 to 10\n",
        "y = np.cos(x)\n",
        "pylab.plot(x, y, '--r')\n",
        "pylab.xlim(0, 6)\n",
        "pylab.ylim(-1.1, 1.1)\n",
        "\n",
        "pylab.xlabel('this is x!')\n",
        "pylab.ylabel('this is y!')\n",
        "pylab.title('My First Plot')"
      ],
      "metadata": {
        "colab": {
          "base_uri": "https://localhost:8080/",
          "height": 490
        },
        "id": "0yO6DKUPMF60",
        "outputId": "ff033c11-46c2-4cd8-c4b0-23ae2b028710"
      },
      "execution_count": 5,
      "outputs": [
        {
          "output_type": "execute_result",
          "data": {
            "text/plain": [
              "Text(0.5, 1.0, 'My First Plot')"
            ]
          },
          "metadata": {},
          "execution_count": 5
        },
        {
          "output_type": "display_data",
          "data": {
            "text/plain": [
              "<Figure size 640x480 with 1 Axes>"
            ],
            "image/png": "[encoded data removed]"
          },
          "metadata": {}
        }
      ]
    },
    {
      "cell_type": "code",
      "source": [
        "example = '/content/drive/MyDrive/Colab_Notebooks/springData.txt'\n",
        "data_file = open(example, 'r')\n",
        "D = [] #distances\n",
        "M = [] #masses\n",
        "data_file.readline() #discard header\n",
        "for line in data_file:\n",
        "  d, m = line.split()\n",
        "  D.append(float(d))\n",
        "  M.append(float(m))\n",
        "data_file.close()\n",
        "\n",
        "pylab.plot(M, D, 'or')\n",
        "pylab.title('Measured Displacement of Spring')\n",
        "pylab.xlabel('Mass (kg)')\n",
        "pylab.ylabel('Distance (m)')"
      ],
      "metadata": {
        "id": "EuksinQGMRXf"
      },
      "execution_count": null,
      "outputs": []
    },
    {
      "cell_type": "code",
      "source": [
        "import pandas as pd\n",
        "import pylab\n",
        "\n",
        "example = '/content/drive/MyDrive/Colab_Notebooks/dataset_hist.txt'\n",
        "data_file = open(example, 'r')\n",
        "df = pd.read_table(example, header=0)\n",
        "print(df.head(10))\n",
        "data_file.close()\n",
        "\n",
        "pylab.hist(df['Data'], color = 'blue', edgecolor = 'black', bins = 10)\n",
        "pylab.title('Histogram')\n",
        "pylab.xlabel('Data')\n",
        "pylab.ylabel('Frequency')"
      ],
      "metadata": {
        "id": "RLynfmAwMUz8"
      },
      "execution_count": null,
      "outputs": []
    }
  ]
}