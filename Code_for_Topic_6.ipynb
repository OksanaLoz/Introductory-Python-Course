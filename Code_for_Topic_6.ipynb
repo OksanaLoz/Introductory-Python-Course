{
  "nbformat": 4,
  "nbformat_minor": 0,
  "metadata": {
    "colab": {
      "provenance": []
    },
    "kernelspec": {
      "name": "python3",
      "display_name": "Python 3"
    },
    "language_info": {
      "name": "python"
    }
  },
  "cells": [
    {
      "cell_type": "code",
      "execution_count": 2,
      "metadata": {
        "id": "oTQOCgPuPeIM",
        "colab": {
          "base_uri": "https://localhost:8080/"
        },
        "outputId": "dbf083c7-c070-42ef-f796-8faa8fa718d6"
      },
      "outputs": [
        {
          "output_type": "stream",
          "name": "stdout",
          "text": [
            "<class 'tuple'>\n",
            "('cat',)\n",
            "('cat', 16.7)\n",
            "3\n"
          ]
        }
      ],
      "source": [
        "t = (5,'cat',16.7)\n",
        "print(type(t))\n",
        "print(t[1:2])\n",
        "print(t[1:3])\n",
        "print(len(t))"
      ]
    },
    {
      "cell_type": "code",
      "source": [
        "def yfunc(t, v0=5, g=9.81):\n",
        "  \"\"\"\n",
        "  Input: time t, the initial velocity v0,\n",
        "  the gravitational constant g.\n",
        "  Returns the height and the velocity\n",
        "  of an object in vertical motion\n",
        "  \"\"\"\n",
        "  y = v0*t - 0.5*g*t**2\n",
        "  v = v0 - g*t\n",
        "  return y,v\n",
        "\n",
        "y,v = yfunc(0.2)\n",
        "print(y,v)"
      ],
      "metadata": {
        "colab": {
          "base_uri": "https://localhost:8080/"
        },
        "id": "agGnARGcRvGF",
        "outputId": "41043d5c-5ff5-42f7-fd20-3027d3f3260f"
      },
      "execution_count": 3,
      "outputs": [
        {
          "output_type": "stream",
          "name": "stdout",
          "text": [
            "0.8038 3.038\n"
          ]
        }
      ]
    },
    {
      "cell_type": "code",
      "source": [
        "L = [1,2,3,4,5,6]\n",
        "print(type(L))\n",
        "print(L)\n",
        "L[1] = 200\n",
        "print(L)"
      ],
      "metadata": {
        "colab": {
          "base_uri": "https://localhost:8080/"
        },
        "id": "yNKWQD9VSBqV",
        "outputId": "370c2d6c-da9e-4425-ab72-576d134e4ce9"
      },
      "execution_count": 6,
      "outputs": [
        {
          "output_type": "stream",
          "name": "stdout",
          "text": [
            "<class 'list'>\n",
            "[1, 2, 3, 4, 5, 6]\n",
            "[1, 200, 3, 4, 5, 6]\n"
          ]
        }
      ]
    },
    {
      "cell_type": "code",
      "source": [
        "L = [10,20,30,40,50,60]\n",
        "L1 = L[1:3]\n",
        "L2 = L[:4]\n",
        "L3 = L[-3:-1]\n",
        "print(L1)\n",
        "print(L2)\n",
        "print(L3)"
      ],
      "metadata": {
        "colab": {
          "base_uri": "https://localhost:8080/"
        },
        "id": "ExcntDDBSZ1O",
        "outputId": "67f092aa-4c8b-44d6-a3d0-2d951ffb6f53"
      },
      "execution_count": 7,
      "outputs": [
        {
          "output_type": "stream",
          "name": "stdout",
          "text": [
            "[20, 30]\n",
            "[10, 20, 30, 40]\n",
            "[40, 50]\n"
          ]
        }
      ]
    },
    {
      "cell_type": "code",
      "source": [
        "L = [10,20,30,40,50,60]\n",
        "sum = 0\n",
        "for i in range(len(L)):\n",
        "  sum += L[i]\n",
        "\n",
        "print(sum)"
      ],
      "metadata": {
        "colab": {
          "base_uri": "https://localhost:8080/"
        },
        "id": "ufKfusGvSfmd",
        "outputId": "c5992022-9e38-4602-e88c-567012a3278e"
      },
      "execution_count": 8,
      "outputs": [
        {
          "output_type": "stream",
          "name": "stdout",
          "text": [
            "210\n"
          ]
        }
      ]
    },
    {
      "cell_type": "code",
      "source": [
        "L = [10,20,30,40,50,60]\n",
        "sum = 0\n",
        "for i in L:\n",
        "  sum += i\n",
        "\n",
        "print(sum)"
      ],
      "metadata": {
        "colab": {
          "base_uri": "https://localhost:8080/"
        },
        "id": "QRd_OmyvSiSE",
        "outputId": "ef196cea-a481-4c94-8291-3f5cef30998d"
      },
      "execution_count": 10,
      "outputs": [
        {
          "output_type": "stream",
          "name": "stdout",
          "text": [
            "210\n"
          ]
        }
      ]
    },
    {
      "cell_type": "code",
      "source": [
        "L = [9,7,5,4,2,0,5]\n",
        "L.remove(5)\n",
        "L.remove(2)\n",
        "del(L[1])\n",
        "L.pop()\n",
        "print(L)"
      ],
      "metadata": {
        "colab": {
          "base_uri": "https://localhost:8080/"
        },
        "id": "8iWQ_qqVSlA9",
        "outputId": "fbb819da-1368-45f3-d2a2-9250c7c0968c"
      },
      "execution_count": 11,
      "outputs": [
        {
          "output_type": "stream",
          "name": "stdout",
          "text": [
            "[9, 4, 0]\n"
          ]
        }
      ]
    },
    {
      "cell_type": "code",
      "source": [
        "L = [9,7,5,4,2,0,5]\n",
        "L.pop(5)\n",
        "print(L)"
      ],
      "metadata": {
        "colab": {
          "base_uri": "https://localhost:8080/"
        },
        "id": "A46byfrkSrYb",
        "outputId": "2c3201dd-ff45-4e20-d562-d71fa90cc66e"
      },
      "execution_count": 12,
      "outputs": [
        {
          "output_type": "stream",
          "name": "stdout",
          "text": [
            "[9, 7, 5, 4, 2, 5]\n"
          ]
        }
      ]
    },
    {
      "cell_type": "code",
      "source": [
        "string = 'grey kitten'\n",
        "L = list(string)\n",
        "print(L)"
      ],
      "metadata": {
        "colab": {
          "base_uri": "https://localhost:8080/"
        },
        "id": "YKaJi2H1S0UV",
        "outputId": "c376021f-9d9f-49d5-dedf-6aaeeb77ff4d"
      },
      "execution_count": 13,
      "outputs": [
        {
          "output_type": "stream",
          "name": "stdout",
          "text": [
            "['g', 'r', 'e', 'y', ' ', 'k', 'i', 't', 't', 'e', 'n']\n"
          ]
        }
      ]
    },
    {
      "cell_type": "code",
      "source": [
        "string = 'grey kitten'\n",
        "L1 = string.split()\n",
        "print(L1)\n",
        "L2 = string.split('r')\n",
        "print(L2)"
      ],
      "metadata": {
        "colab": {
          "base_uri": "https://localhost:8080/"
        },
        "id": "zmJeIARjS75v",
        "outputId": "85e442ab-35ca-4d09-ad55-8d9e155d1e37"
      },
      "execution_count": 14,
      "outputs": [
        {
          "output_type": "stream",
          "name": "stdout",
          "text": [
            "['grey', 'kitten']\n",
            "['g', 'ey kitten']\n"
          ]
        }
      ]
    },
    {
      "cell_type": "code",
      "source": [
        "L = ['K','i','t','t','y','!']\n",
        "string = ''.join(L)\n",
        "print(string)"
      ],
      "metadata": {
        "colab": {
          "base_uri": "https://localhost:8080/"
        },
        "id": "aGll7nX9TEBL",
        "outputId": "1589aafd-1b01-48e8-d3d9-d288200da0c6"
      },
      "execution_count": 15,
      "outputs": [
        {
          "output_type": "stream",
          "name": "stdout",
          "text": [
            "Kitty!\n"
          ]
        }
      ]
    },
    {
      "cell_type": "code",
      "source": [
        "L = ['K','i','t','t','y','!']\n",
        "string = '_'.join(L)\n",
        "print(string)"
      ],
      "metadata": {
        "colab": {
          "base_uri": "https://localhost:8080/"
        },
        "id": "GvK6uNY2TInM",
        "outputId": "41b83a62-8071-4431-8554-e8027d738e75"
      },
      "execution_count": 16,
      "outputs": [
        {
          "output_type": "stream",
          "name": "stdout",
          "text": [
            "K_i_t_t_y_!\n"
          ]
        }
      ]
    },
    {
      "cell_type": "code",
      "source": [
        "L = [9,7,5,4,2,0,5]\n",
        "print(L)\n",
        "L1 = sorted(L)\n",
        "print(L1)\n",
        "L.sort()\n",
        "print(L)"
      ],
      "metadata": {
        "colab": {
          "base_uri": "https://localhost:8080/"
        },
        "id": "kxL71cpHTNJz",
        "outputId": "190b46ec-72ad-4b2d-94e3-3f4e7368ac88"
      },
      "execution_count": 17,
      "outputs": [
        {
          "output_type": "stream",
          "name": "stdout",
          "text": [
            "[9, 7, 5, 4, 2, 0, 5]\n",
            "[0, 2, 4, 5, 5, 7, 9]\n",
            "[0, 2, 4, 5, 5, 7, 9]\n"
          ]
        }
      ]
    },
    {
      "cell_type": "code",
      "source": [
        "L = [9,7,5,4,2,0,5]\n",
        "L.reverse()\n",
        "print(L)"
      ],
      "metadata": {
        "colab": {
          "base_uri": "https://localhost:8080/"
        },
        "id": "8fi0jXo0TOWI",
        "outputId": "b29d9672-73a7-4dc8-d63c-1694b7fb1c69"
      },
      "execution_count": 18,
      "outputs": [
        {
          "output_type": "stream",
          "name": "stdout",
          "text": [
            "[5, 0, 2, 4, 5, 7, 9]\n"
          ]
        }
      ]
    }
  ]
}