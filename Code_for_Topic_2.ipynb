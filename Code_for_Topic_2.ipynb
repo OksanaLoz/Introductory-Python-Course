{
  "nbformat": 4,
  "nbformat_minor": 0,
  "metadata": {
    "colab": {
      "provenance": []
    },
    "kernelspec": {
      "name": "python3",
      "display_name": "Python 3"
    },
    "language_info": {
      "name": "python"
    }
  },
  "cells": [
    {
      "cell_type": "code",
      "execution_count": 7,
      "metadata": {
        "colab": {
          "base_uri": "https://localhost:8080/"
        },
        "id": "5fgBHZu1SSJz",
        "outputId": "3d0601cc-d049-47a7-fd24-d79d0ce84ca6"
      },
      "outputs": [
        {
          "output_type": "stream",
          "name": "stdout",
          "text": [
            "True\n",
            "False\n",
            "False\n",
            "True\n",
            "True\n"
          ]
        }
      ],
      "source": [
        "print(8>5)\n",
        "print(8==5)\n",
        "print(8<5)\n",
        "print(8!=5)\n",
        "print(8==8.0)"
      ]
    },
    {
      "cell_type": "code",
      "source": [
        "x=2\n",
        "y=3\n",
        "print(x>=0 and y<1)\n",
        "print(x>=0 or y<1)\n",
        "print(x>0 or not y>1)"
      ],
      "metadata": {
        "colab": {
          "base_uri": "https://localhost:8080/"
        },
        "id": "aum_mYmTSlH1",
        "outputId": "68168817-ba60-427e-a684-417d20d111db"
      },
      "execution_count": 6,
      "outputs": [
        {
          "output_type": "stream",
          "name": "stdout",
          "text": [
            "False\n",
            "True\n",
            "True\n"
          ]
        }
      ]
    },
    {
      "cell_type": "code",
      "source": [
        "a=5\n",
        "b=2\n",
        "if a==b:\n",
        "  print('a and b are equal')\n",
        "elif a<b:\n",
        "  print('a is smaller')\n",
        "else:\n",
        "  print('b is smaller')"
      ],
      "metadata": {
        "colab": {
          "base_uri": "https://localhost:8080/"
        },
        "id": "bU65sFKeSpQl",
        "outputId": "5bee7b3a-bc71-4e7a-f8c9-f678ed1b272d"
      },
      "execution_count": 5,
      "outputs": [
        {
          "output_type": "stream",
          "name": "stdout",
          "text": [
            "b is smaller\n"
          ]
        }
      ]
    },
    {
      "cell_type": "code",
      "source": [
        "a=0.1\n",
        "b=3*a\n",
        "c=0.3\n",
        "print(b==c)\n",
        "print(abs(b-c)<1e-10)"
      ],
      "metadata": {
        "colab": {
          "base_uri": "https://localhost:8080/"
        },
        "id": "-06CFlraTDHH",
        "outputId": "e5ee8b92-1dd1-4324-de31-0740f4065b81"
      },
      "execution_count": 4,
      "outputs": [
        {
          "output_type": "stream",
          "name": "stdout",
          "text": [
            "False\n",
            "True\n"
          ]
        }
      ]
    },
    {
      "cell_type": "code",
      "source": [
        "a=5\n",
        "b=2\n",
        "if a==b:\n",
        "  print('a and b are equal')\n",
        "  if a==0 and b==0:\n",
        "    print ('a and b are zeros')\n",
        "elif a<b:\n",
        "  print('a is smaller')\n",
        "else:\n",
        "  print('b is smaller')"
      ],
      "metadata": {
        "colab": {
          "base_uri": "https://localhost:8080/"
        },
        "id": "0e0HFWanTP1M",
        "outputId": "3febf844-492c-48b0-933d-5c5296bd02f7"
      },
      "execution_count": 3,
      "outputs": [
        {
          "output_type": "stream",
          "name": "stdout",
          "text": [
            "b is smaller\n"
          ]
        }
      ]
    },
    {
      "cell_type": "code",
      "source": [
        "n=0\n",
        "while n<8:\n",
        "  print(n)\n",
        "  n +=1"
      ],
      "metadata": {
        "colab": {
          "base_uri": "https://localhost:8080/"
        },
        "id": "4x5AfGTYTfm9",
        "outputId": "e1dc56ea-866e-4954-8061-1de402464c5d"
      },
      "execution_count": 1,
      "outputs": [
        {
          "output_type": "stream",
          "name": "stdout",
          "text": [
            "0\n",
            "1\n",
            "2\n",
            "3\n",
            "4\n",
            "5\n",
            "6\n",
            "7\n"
          ]
        }
      ]
    },
    {
      "cell_type": "code",
      "source": [
        "term = 1  #Load the first term in the sum\n",
        "s = term  # Initialize the sum\n",
        "n = 1  #Set a counter\n",
        "while term > 1e-5 :\n",
        "  n += 1  #Add 1 to n so that it will count: 2,3,4,5\n",
        "  term = 1./n**2  #Calculate the next term to add\n",
        "  s += term  #Add 1/n^2 to the running total\n",
        "\n",
        "print(s)"
      ],
      "metadata": {
        "colab": {
          "base_uri": "https://localhost:8080/"
        },
        "id": "GXkD74dQT8OG",
        "outputId": "821208e0-be68-415a-dac1-ab17761b54e3"
      },
      "execution_count": 11,
      "outputs": [
        {
          "output_type": "stream",
          "name": "stdout",
          "text": [
            "1.6417844631526846\n"
          ]
        }
      ]
    },
    {
      "cell_type": "code",
      "source": [
        "for n in range(8) :\n",
        "  print(n)"
      ],
      "metadata": {
        "colab": {
          "base_uri": "https://localhost:8080/"
        },
        "id": "xnESirLOVO6M",
        "outputId": "4ba5afe1-a66b-474c-bba2-c268fbaa1b56"
      },
      "execution_count": 13,
      "outputs": [
        {
          "output_type": "stream",
          "name": "stdout",
          "text": [
            "0\n",
            "1\n",
            "2\n",
            "3\n",
            "4\n",
            "5\n",
            "6\n",
            "7\n"
          ]
        }
      ]
    },
    {
      "cell_type": "code",
      "source": [
        "for x in range(2,10,3):\n",
        "  print(x)\n",
        "else:\n",
        "  print('Task is completed!')"
      ],
      "metadata": {
        "colab": {
          "base_uri": "https://localhost:8080/"
        },
        "id": "tw2Zd4IkVd-R",
        "outputId": "56826914-1785-4140-c8e1-70b6d6174bb8"
      },
      "execution_count": 14,
      "outputs": [
        {
          "output_type": "stream",
          "name": "stdout",
          "text": [
            "2\n",
            "5\n",
            "8\n",
            "Task is completed!\n"
          ]
        }
      ]
    },
    {
      "cell_type": "code",
      "source": [
        "sum = 0\n",
        "for x in range(2,10,3):\n",
        "  sum +=x\n",
        "print(sum)"
      ],
      "metadata": {
        "colab": {
          "base_uri": "https://localhost:8080/"
        },
        "id": "l_1ON7NqVlUq",
        "outputId": "2dd95678-a607-47a9-c039-a7a692f865db"
      },
      "execution_count": 15,
      "outputs": [
        {
          "output_type": "stream",
          "name": "stdout",
          "text": [
            "15\n"
          ]
        }
      ]
    },
    {
      "cell_type": "code",
      "source": [
        "s = 0\n",
        "for n in range(1,1001):\n",
        "  s +=1/n**2\n",
        "print(s)"
      ],
      "metadata": {
        "colab": {
          "base_uri": "https://localhost:8080/"
        },
        "id": "37NQAwjRVxXS",
        "outputId": "499d5a3b-c2f8-43fc-f59d-0dc082312dc1"
      },
      "execution_count": 16,
      "outputs": [
        {
          "output_type": "stream",
          "name": "stdout",
          "text": [
            "1.6439345666815615\n"
          ]
        }
      ]
    },
    {
      "cell_type": "code",
      "source": [
        "i=1\n",
        "while i<6:\n",
        "  print(i)\n",
        "  if i==3:\n",
        "    break\n",
        "  i +=1"
      ],
      "metadata": {
        "colab": {
          "base_uri": "https://localhost:8080/"
        },
        "id": "VNS5RD1VWGKU",
        "outputId": "dbb081d0-eb64-4f24-8615-907e1a0787cd"
      },
      "execution_count": 17,
      "outputs": [
        {
          "output_type": "stream",
          "name": "stdout",
          "text": [
            "1\n",
            "2\n",
            "3\n"
          ]
        }
      ]
    },
    {
      "cell_type": "code",
      "source": [
        "s=0\n",
        "for i in range(1,9,2):\n",
        "  s += i\n",
        "  if s == 9:\n",
        "    break\n",
        "print(s)"
      ],
      "metadata": {
        "colab": {
          "base_uri": "https://localhost:8080/"
        },
        "id": "ykL08OUpWWTp",
        "outputId": "3d9c07ca-6558-44a9-d0b3-372789d2279d"
      },
      "execution_count": 18,
      "outputs": [
        {
          "output_type": "stream",
          "name": "stdout",
          "text": [
            "9\n"
          ]
        }
      ]
    }
  ]
}